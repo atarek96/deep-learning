{
 "cells": [
  {
   "cell_type": "code",
   "execution_count": 4,
   "id": "81541e0c",
   "metadata": {},
   "outputs": [],
   "source": [
    "import pandas as pd\n",
    "import numpy as np\n",
    "import tensorflow as tf\n",
    "from sklearn.metrics import accuracy_score, precision_score, recall_score, f1_score\n",
    "import matplotlib.pyplot as plt\n",
    "import math\n",
    "from sklearn.model_selection import train_test_split\n",
    "from sklearn.preprocessing import StandardScaler\n",
    "from sklearn.neighbors import KNeighborsClassifier\n",
    "from sklearn.metrics import confusion_matrix\n",
    "from sklearn.metrics import accuracy_score\n",
    "from keras.models import Sequential\n",
    "from keras.layers import Dense"
   ]
  },
  {
   "cell_type": "code",
   "execution_count": 6,
   "id": "e1d12cb2",
   "metadata": {},
   "outputs": [],
   "source": [
    "train = pd.read_csv('C:\\\\Users\\\\wwwfi\\\\Desktop\\\\el kolia\\\\machine learning\\\\mnist_train.csv')\n",
    "test = pd.read_csv('C:\\\\Users\\\\wwwfi\\\\Desktop\\\\el kolia\\\\machine learning\\\\mnist_test.csv')"
   ]
  },
  {
   "cell_type": "code",
   "execution_count": 7,
   "id": "cd39c17c",
   "metadata": {},
   "outputs": [
    {
     "data": {
      "text/html": [
       "<div>\n",
       "<style scoped>\n",
       "    .dataframe tbody tr th:only-of-type {\n",
       "        vertical-align: middle;\n",
       "    }\n",
       "\n",
       "    .dataframe tbody tr th {\n",
       "        vertical-align: top;\n",
       "    }\n",
       "\n",
       "    .dataframe thead th {\n",
       "        text-align: right;\n",
       "    }\n",
       "</style>\n",
       "<table border=\"1\" class=\"dataframe\">\n",
       "  <thead>\n",
       "    <tr style=\"text-align: right;\">\n",
       "      <th></th>\n",
       "      <th>label</th>\n",
       "      <th>1x1</th>\n",
       "      <th>1x2</th>\n",
       "      <th>1x3</th>\n",
       "      <th>1x4</th>\n",
       "      <th>1x5</th>\n",
       "      <th>1x6</th>\n",
       "      <th>1x7</th>\n",
       "      <th>1x8</th>\n",
       "      <th>1x9</th>\n",
       "      <th>...</th>\n",
       "      <th>28x19</th>\n",
       "      <th>28x20</th>\n",
       "      <th>28x21</th>\n",
       "      <th>28x22</th>\n",
       "      <th>28x23</th>\n",
       "      <th>28x24</th>\n",
       "      <th>28x25</th>\n",
       "      <th>28x26</th>\n",
       "      <th>28x27</th>\n",
       "      <th>28x28</th>\n",
       "    </tr>\n",
       "  </thead>\n",
       "  <tbody>\n",
       "    <tr>\n",
       "      <th>0</th>\n",
       "      <td>5</td>\n",
       "      <td>0</td>\n",
       "      <td>0</td>\n",
       "      <td>0</td>\n",
       "      <td>0</td>\n",
       "      <td>0</td>\n",
       "      <td>0</td>\n",
       "      <td>0</td>\n",
       "      <td>0</td>\n",
       "      <td>0</td>\n",
       "      <td>...</td>\n",
       "      <td>0</td>\n",
       "      <td>0</td>\n",
       "      <td>0</td>\n",
       "      <td>0</td>\n",
       "      <td>0</td>\n",
       "      <td>0</td>\n",
       "      <td>0</td>\n",
       "      <td>0</td>\n",
       "      <td>0</td>\n",
       "      <td>0</td>\n",
       "    </tr>\n",
       "    <tr>\n",
       "      <th>1</th>\n",
       "      <td>0</td>\n",
       "      <td>0</td>\n",
       "      <td>0</td>\n",
       "      <td>0</td>\n",
       "      <td>0</td>\n",
       "      <td>0</td>\n",
       "      <td>0</td>\n",
       "      <td>0</td>\n",
       "      <td>0</td>\n",
       "      <td>0</td>\n",
       "      <td>...</td>\n",
       "      <td>0</td>\n",
       "      <td>0</td>\n",
       "      <td>0</td>\n",
       "      <td>0</td>\n",
       "      <td>0</td>\n",
       "      <td>0</td>\n",
       "      <td>0</td>\n",
       "      <td>0</td>\n",
       "      <td>0</td>\n",
       "      <td>0</td>\n",
       "    </tr>\n",
       "    <tr>\n",
       "      <th>2</th>\n",
       "      <td>4</td>\n",
       "      <td>0</td>\n",
       "      <td>0</td>\n",
       "      <td>0</td>\n",
       "      <td>0</td>\n",
       "      <td>0</td>\n",
       "      <td>0</td>\n",
       "      <td>0</td>\n",
       "      <td>0</td>\n",
       "      <td>0</td>\n",
       "      <td>...</td>\n",
       "      <td>0</td>\n",
       "      <td>0</td>\n",
       "      <td>0</td>\n",
       "      <td>0</td>\n",
       "      <td>0</td>\n",
       "      <td>0</td>\n",
       "      <td>0</td>\n",
       "      <td>0</td>\n",
       "      <td>0</td>\n",
       "      <td>0</td>\n",
       "    </tr>\n",
       "    <tr>\n",
       "      <th>3</th>\n",
       "      <td>1</td>\n",
       "      <td>0</td>\n",
       "      <td>0</td>\n",
       "      <td>0</td>\n",
       "      <td>0</td>\n",
       "      <td>0</td>\n",
       "      <td>0</td>\n",
       "      <td>0</td>\n",
       "      <td>0</td>\n",
       "      <td>0</td>\n",
       "      <td>...</td>\n",
       "      <td>0</td>\n",
       "      <td>0</td>\n",
       "      <td>0</td>\n",
       "      <td>0</td>\n",
       "      <td>0</td>\n",
       "      <td>0</td>\n",
       "      <td>0</td>\n",
       "      <td>0</td>\n",
       "      <td>0</td>\n",
       "      <td>0</td>\n",
       "    </tr>\n",
       "    <tr>\n",
       "      <th>4</th>\n",
       "      <td>9</td>\n",
       "      <td>0</td>\n",
       "      <td>0</td>\n",
       "      <td>0</td>\n",
       "      <td>0</td>\n",
       "      <td>0</td>\n",
       "      <td>0</td>\n",
       "      <td>0</td>\n",
       "      <td>0</td>\n",
       "      <td>0</td>\n",
       "      <td>...</td>\n",
       "      <td>0</td>\n",
       "      <td>0</td>\n",
       "      <td>0</td>\n",
       "      <td>0</td>\n",
       "      <td>0</td>\n",
       "      <td>0</td>\n",
       "      <td>0</td>\n",
       "      <td>0</td>\n",
       "      <td>0</td>\n",
       "      <td>0</td>\n",
       "    </tr>\n",
       "  </tbody>\n",
       "</table>\n",
       "<p>5 rows × 785 columns</p>\n",
       "</div>"
      ],
      "text/plain": [
       "   label  1x1  1x2  1x3  1x4  1x5  1x6  1x7  1x8  1x9  ...  28x19  28x20  \\\n",
       "0      5    0    0    0    0    0    0    0    0    0  ...      0      0   \n",
       "1      0    0    0    0    0    0    0    0    0    0  ...      0      0   \n",
       "2      4    0    0    0    0    0    0    0    0    0  ...      0      0   \n",
       "3      1    0    0    0    0    0    0    0    0    0  ...      0      0   \n",
       "4      9    0    0    0    0    0    0    0    0    0  ...      0      0   \n",
       "\n",
       "   28x21  28x22  28x23  28x24  28x25  28x26  28x27  28x28  \n",
       "0      0      0      0      0      0      0      0      0  \n",
       "1      0      0      0      0      0      0      0      0  \n",
       "2      0      0      0      0      0      0      0      0  \n",
       "3      0      0      0      0      0      0      0      0  \n",
       "4      0      0      0      0      0      0      0      0  \n",
       "\n",
       "[5 rows x 785 columns]"
      ]
     },
     "execution_count": 7,
     "metadata": {},
     "output_type": "execute_result"
    }
   ],
   "source": [
    "train.head()"
   ]
  },
  {
   "cell_type": "code",
   "execution_count": 8,
   "id": "b9bb5a63",
   "metadata": {},
   "outputs": [
    {
     "data": {
      "text/plain": [
       "label    int64\n",
       "1x1      int64\n",
       "1x2      int64\n",
       "1x3      int64\n",
       "1x4      int64\n",
       "         ...  \n",
       "28x24    int64\n",
       "28x25    int64\n",
       "28x26    int64\n",
       "28x27    int64\n",
       "28x28    int64\n",
       "Length: 785, dtype: object"
      ]
     },
     "execution_count": 8,
     "metadata": {},
     "output_type": "execute_result"
    }
   ],
   "source": [
    "train.dtypes"
   ]
  },
  {
   "cell_type": "code",
   "execution_count": 5,
   "id": "b04dc54a",
   "metadata": {},
   "outputs": [
    {
     "data": {
      "text/plain": [
       "label    0\n",
       "1x1      0\n",
       "1x2      0\n",
       "1x3      0\n",
       "1x4      0\n",
       "        ..\n",
       "28x24    0\n",
       "28x25    0\n",
       "28x26    0\n",
       "28x27    0\n",
       "28x28    0\n",
       "Length: 785, dtype: int64"
      ]
     },
     "execution_count": 5,
     "metadata": {},
     "output_type": "execute_result"
    }
   ],
   "source": [
    "cols = train.columns\n",
    "train[cols].isnull().sum()"
   ]
  },
  {
   "cell_type": "code",
   "execution_count": 6,
   "id": "ebf55517",
   "metadata": {},
   "outputs": [
    {
     "data": {
      "text/plain": [
       "0"
      ]
     },
     "execution_count": 6,
     "metadata": {},
     "output_type": "execute_result"
    }
   ],
   "source": [
    "train.duplicated().sum()"
   ]
  },
  {
   "cell_type": "code",
   "execution_count": 7,
   "id": "6fba57f8",
   "metadata": {},
   "outputs": [],
   "source": [
    "#The data is already clean\n",
    "train_labels = train.iloc[:, 0].values\n",
    "train_images = train.iloc[:, 1:].values\n",
    "test_labels = test.iloc[:, 0].values\n",
    "test_images = test.iloc[:, 1:].values"
   ]
  },
  {
   "cell_type": "code",
   "execution_count": 8,
   "id": "98b4bbd0",
   "metadata": {},
   "outputs": [],
   "source": [
    "# Reshape data\n",
    "train_images = train_images.reshape(train_images.shape[0], 28, 28, 1)\n",
    "test_images = test_images.reshape(test_images.shape[0], 28, 28, 1)"
   ]
  },
  {
   "cell_type": "code",
   "execution_count": 9,
   "id": "511ac035",
   "metadata": {},
   "outputs": [],
   "source": [
    "# Normalize Data\n",
    "train_images = train_images / 255.0\n",
    "test_images = test_images / 255.0"
   ]
  },
  {
   "cell_type": "code",
   "execution_count": 10,
   "id": "aff49fe6",
   "metadata": {},
   "outputs": [],
   "source": [
    "# Second Task - Artificial Neural Network\n",
    "# Build Model\n",
    "model_ann = tf.keras.models.Sequential([\n",
    "    tf.keras.layers.Flatten(input_shape=(28,28)),\n",
    "    tf.keras.layers.Dense(128, activation='relu'),\n",
    "    tf.keras.layers.Dense(64, activation='relu'),\n",
    "    tf.keras.layers.Dense(10, activation='softmax')\n",
    "])"
   ]
  },
  {
   "cell_type": "code",
   "execution_count": 11,
   "id": "34f94b0c",
   "metadata": {},
   "outputs": [],
   "source": [
    "# Compile Model\n",
    "model_ann.compile(optimizer='adam', loss='sparse_categorical_crossentropy', metrics=['accuracy'])"
   ]
  },
  {
   "cell_type": "code",
   "execution_count": 12,
   "id": "dd18da9f",
   "metadata": {},
   "outputs": [
    {
     "name": "stdout",
     "output_type": "stream",
     "text": [
      "Epoch 1/10\n",
      "1875/1875 [==============================] - 4s 2ms/step - loss: 0.2458 - accuracy: 0.9277 - val_loss: 0.1220 - val_accuracy: 0.9628\n",
      "Epoch 2/10\n",
      "1875/1875 [==============================] - 3s 2ms/step - loss: 0.1005 - accuracy: 0.9692 - val_loss: 0.0842 - val_accuracy: 0.9749\n",
      "Epoch 3/10\n",
      "1875/1875 [==============================] - 3s 2ms/step - loss: 0.0711 - accuracy: 0.9774 - val_loss: 0.0862 - val_accuracy: 0.9740\n",
      "Epoch 4/10\n",
      "1875/1875 [==============================] - 3s 2ms/step - loss: 0.0522 - accuracy: 0.9838 - val_loss: 0.0806 - val_accuracy: 0.9771\n",
      "Epoch 5/10\n",
      "1875/1875 [==============================] - 3s 2ms/step - loss: 0.0425 - accuracy: 0.9863 - val_loss: 0.0698 - val_accuracy: 0.9791\n",
      "Epoch 6/10\n",
      "1875/1875 [==============================] - 4s 2ms/step - loss: 0.0333 - accuracy: 0.9895 - val_loss: 0.0743 - val_accuracy: 0.9792\n",
      "Epoch 7/10\n",
      "1875/1875 [==============================] - 4s 2ms/step - loss: 0.0291 - accuracy: 0.9907 - val_loss: 0.0840 - val_accuracy: 0.9773\n",
      "Epoch 8/10\n",
      "1875/1875 [==============================] - 3s 2ms/step - loss: 0.0238 - accuracy: 0.9923 - val_loss: 0.0842 - val_accuracy: 0.9784\n",
      "Epoch 9/10\n",
      "1875/1875 [==============================] - 3s 2ms/step - loss: 0.0209 - accuracy: 0.9928 - val_loss: 0.0981 - val_accuracy: 0.9757\n",
      "Epoch 10/10\n",
      "1875/1875 [==============================] - 3s 2ms/step - loss: 0.0184 - accuracy: 0.9941 - val_loss: 0.0870 - val_accuracy: 0.9784\n"
     ]
    }
   ],
   "source": [
    "# Train Model\n",
    "history_ann=model_ann.fit(train_images, train_labels, epochs=10, validation_data=(test_images, test_labels))"
   ]
  },
  {
   "cell_type": "code",
   "execution_count": 13,
   "id": "0d67b5a0",
   "metadata": {},
   "outputs": [
    {
     "name": "stdout",
     "output_type": "stream",
     "text": [
      "313/313 [==============================] - 0s 673us/step\n"
     ]
    }
   ],
   "source": [
    "# Evaluate Model\n",
    "test_predictions_ann = model_ann.predict(test_images)\n",
    "test_predictions_ann = np.argmax(test_predictions_ann, axis=1)"
   ]
  },
  {
   "cell_type": "code",
   "execution_count": 14,
   "id": "6f2b3c1b",
   "metadata": {},
   "outputs": [],
   "source": [
    "accuracy_ann = accuracy_score(test_labels, test_predictions_ann)\n",
    "precision_ann = precision_score(test_labels, test_predictions_ann, average='macro')\n",
    "recall_ann = recall_score(test_labels, test_predictions_ann, average='macro')\n",
    "f1_ann = f1_score(test_labels, test_predictions_ann, average='macro')"
   ]
  },
  {
   "cell_type": "code",
   "execution_count": 15,
   "id": "57ae791f",
   "metadata": {},
   "outputs": [
    {
     "name": "stdout",
     "output_type": "stream",
     "text": [
      "Artificial Neural Network Metrics\n",
      "Accuracy: 0.9784\n",
      "Precision: 0.9783173439000832\n",
      "Recall: 0.9783502817524372\n",
      "F1-Score: 0.9782578785784877\n"
     ]
    }
   ],
   "source": [
    "print('Artificial Neural Network Metrics')\n",
    "print('Accuracy:', accuracy_ann)\n",
    "print('Precision:', precision_ann)\n",
    "print('Recall:', recall_ann)\n",
    "print('F1-Score:', f1_ann)"
   ]
  },
  {
   "cell_type": "code",
   "execution_count": 16,
   "id": "17b07294",
   "metadata": {},
   "outputs": [
    {
     "data": {
      "image/png": "[encoded data removed]",
      "text/plain": [
       "<Figure size 640x480 with 1 Axes>"
      ]
     },
     "metadata": {},
     "output_type": "display_data"
    }
   ],
   "source": [
    "# Visualize ANN Performance\n",
    "plt.plot(history_ann.history['accuracy'], label='train')\n",
    "plt.plot(history_ann.history['val_accuracy'], label='validation')\n",
    "plt.title('Artificial Neural Network Accuracy')\n",
    "plt.xlabel('Epoch')\n",
    "plt.ylabel('Accuracy')\n",
    "plt.legend()\n",
    "plt.show()"
   ]
  },
  {
   "cell_type": "code",
   "execution_count": 17,
   "id": "11563c60",
   "metadata": {},
   "outputs": [],
   "source": [
    "# Third Task - Convolutional Neural Network\n",
    "# Build Model\n",
    "model_cnn = tf.keras.models.Sequential([\n",
    "    tf.keras.layers.Conv2D(32, (3,3), activation='relu', input_shape=(28,28,1)),\n",
    "    tf.keras.layers.MaxPooling2D((2,2)),\n",
    "    tf.keras.layers.Conv2D(64, (3,3), activation='relu'),\n",
    "    tf.keras.layers.MaxPooling2D((2,2)),\n",
    "    tf.keras.layers.Flatten(),\n",
    "    tf.keras.layers.Dense(64, activation='relu'),\n",
    "    tf.keras.layers.Dense(10, activation='softmax')\n",
    "])"
   ]
  },
  {
   "cell_type": "code",
   "execution_count": 18,
   "id": "e4f86fc7",
   "metadata": {},
   "outputs": [],
   "source": [
    "# Compile Model\n",
    "model_cnn.compile(optimizer='adam', loss='sparse_categorical_crossentropy', metrics=['accuracy'])"
   ]
  },
  {
   "cell_type": "code",
   "execution_count": 19,
   "id": "5e0982de",
   "metadata": {},
   "outputs": [
    {
     "name": "stdout",
     "output_type": "stream",
     "text": [
      "Epoch 1/10\n",
      "1875/1875 [==============================] - 22s 12ms/step - loss: 0.1459 - accuracy: 0.9559 - val_loss: 0.0449 - val_accuracy: 0.9844\n",
      "Epoch 2/10\n",
      "1875/1875 [==============================] - 23s 12ms/step - loss: 0.0449 - accuracy: 0.9861 - val_loss: 0.0369 - val_accuracy: 0.9886\n",
      "Epoch 3/10\n",
      "1875/1875 [==============================] - 23s 12ms/step - loss: 0.0330 - accuracy: 0.9894 - val_loss: 0.0326 - val_accuracy: 0.9889\n",
      "Epoch 4/10\n",
      "1875/1875 [==============================] - 25s 13ms/step - loss: 0.0237 - accuracy: 0.9922 - val_loss: 0.0273 - val_accuracy: 0.9912\n",
      "Epoch 5/10\n",
      "1875/1875 [==============================] - 24s 13ms/step - loss: 0.0179 - accuracy: 0.9946 - val_loss: 0.0279 - val_accuracy: 0.9913\n",
      "Epoch 6/10\n",
      "1875/1875 [==============================] - 24s 13ms/step - loss: 0.0136 - accuracy: 0.9954 - val_loss: 0.0338 - val_accuracy: 0.9902\n",
      "Epoch 7/10\n",
      "1875/1875 [==============================] - 24s 13ms/step - loss: 0.0119 - accuracy: 0.9961 - val_loss: 0.0345 - val_accuracy: 0.9904\n",
      "Epoch 8/10\n",
      "1875/1875 [==============================] - 25s 13ms/step - loss: 0.0096 - accuracy: 0.9971 - val_loss: 0.0336 - val_accuracy: 0.9898\n",
      "Epoch 9/10\n",
      "1875/1875 [==============================] - 24s 13ms/step - loss: 0.0069 - accuracy: 0.9976 - val_loss: 0.0331 - val_accuracy: 0.9905\n",
      "Epoch 10/10\n",
      "1875/1875 [==============================] - 23s 12ms/step - loss: 0.0073 - accuracy: 0.9975 - val_loss: 0.0374 - val_accuracy: 0.9916\n"
     ]
    }
   ],
   "source": [
    "# Train Model\n",
    "history_cnn=model_cnn.fit(train_images, train_labels, epochs=10, validation_data=(test_images, test_labels))"
   ]
  },
  {
   "cell_type": "code",
   "execution_count": 20,
   "id": "84829bd0",
   "metadata": {},
   "outputs": [
    {
     "name": "stdout",
     "output_type": "stream",
     "text": [
      "313/313 [==============================] - 1s 4ms/step\n"
     ]
    }
   ],
   "source": [
    "# Evaluate Model\n",
    "test_predictions_cnn = model_cnn.predict(test_images)\n",
    "test_predictions_cnn = np.argmax(test_predictions_cnn, axis=1)"
   ]
  },
  {
   "cell_type": "code",
   "execution_count": 21,
   "id": "1ec27e69",
   "metadata": {},
   "outputs": [],
   "source": [
    "accuracy_cnn = accuracy_score(test_labels, test_predictions_cnn)\n",
    "precision_cnn = precision_score(test_labels, test_predictions_cnn, average='macro')\n",
    "recall_cnn = recall_score(test_labels, test_predictions_cnn, average='macro')\n",
    "f1_cnn = f1_score(test_labels, test_predictions_cnn, average='macro')"
   ]
  },
  {
   "cell_type": "code",
   "execution_count": 22,
   "id": "c935a98c",
   "metadata": {},
   "outputs": [
    {
     "name": "stdout",
     "output_type": "stream",
     "text": [
      "Convolutional Neural Network Metrics\n",
      "Accuracy: 0.9916\n",
      "Precision: 0.9916933329404888\n",
      "Recall: 0.9914832128847083\n",
      "Convolutional Neural Network Metrics\n",
      "F1-Score: 0.9915586510668181\n"
     ]
    }
   ],
   "source": [
    "print('Convolutional Neural Network Metrics')\n",
    "print('Accuracy:', accuracy_cnn)\n",
    "print('Precision:', precision_cnn)\n",
    "print('Recall:', recall_cnn)\n",
    "print('Convolutional Neural Network Metrics')\n",
    "print('F1-Score:', f1_cnn)"
   ]
  },
  {
   "cell_type": "code",
   "execution_count": 23,
   "id": "5748bcfc",
   "metadata": {},
   "outputs": [
    {
     "data": {
      "image/png": "[encoded data removed]",
      "text/plain": [
       "<Figure size 640x480 with 1 Axes>"
      ]
     },
     "metadata": {},
     "output_type": "display_data"
    }
   ],
   "source": [
    "# Visualize CNN Performance\n",
    "plt.plot(history_cnn.history['accuracy'], label='train')\n",
    "plt.plot(history_cnn.history['val_accuracy'], label='validation')\n",
    "plt.title('Convolutional Neural Network Accuracy')\n",
    "plt.xlabel('Epoch')\n",
    "plt.ylabel('Accuracy')\n",
    "plt.legend()\n",
    "plt.show()"
   ]
  },
  {
   "cell_type": "code",
   "execution_count": 24,
   "id": "a31564d4",
   "metadata": {},
   "outputs": [
    {
     "name": "stdout",
     "output_type": "stream",
     "text": [
      "Comparing Results: \n",
      "Accuracy ANN: 0.9784\n",
      "Accuracy CNN: 0.9916\n"
     ]
    }
   ],
   "source": [
    "# Compare Results\n",
    "print('Comparing Results: ')\n",
    "print('Accuracy ANN:', accuracy_ann)\n",
    "print('Accuracy CNN:', accuracy_cnn)"
   ]
  },
  {
   "cell_type": "code",
   "execution_count": null,
   "id": "64021523",
   "metadata": {},
   "outputs": [],
   "source": []
  }
 ],
 "metadata": {
  "kernelspec": {
   "display_name": "Python 3 (ipykernel)",
   "language": "python",
   "name": "python3"
  },
  "language_info": {
   "codemirror_mode": {
    "name": "ipython",
    "version": 3
   },
   "file_extension": ".py",
   "mimetype": "text/x-python",
   "name": "python",
   "nbconvert_exporter": "python",
   "pygments_lexer": "ipython3",
   "version": "3.9.13"
  }
 },
 "nbformat": 4,
 "nbformat_minor": 5
}
